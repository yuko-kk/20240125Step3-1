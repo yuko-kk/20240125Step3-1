{
 "cells": [
  {
   "cell_type": "markdown",
   "metadata": {},
   "source": []
  },
  {
   "cell_type": "code",
   "execution_count": 1,
   "metadata": {},
   "outputs": [],
   "source": [
    "import requests\n",
    "from bs4 import BeautifulSoup\n",
    "import urllib"
   ]
  },
  {
   "cell_type": "code",
   "execution_count": 2,
   "metadata": {},
   "outputs": [],
   "source": [
    "# スクレイピングするページ数\n",
    "max_page = 100\n",
    "# SUUMOを東京都23区のみ指定して検索して出力した画面のurl(ページ数フォーマットが必要)\n",
    "base_url = \"https://suumo.jp\"\n",
    "# URLにページ番号を追加するプレースホルダを含む\n",
    "relative_url = \"/jj/chintai/ichiran/FR301FC001/?ar=030&bs=040&ta=13&sc=13112&cb=0.0&ct=9999999&et=9999999&cn=9999999&mb=0&mt=9999999&shkr1=03&shkr2=03&shkr3=03&shkr4=03&fw2=&srch_navi=&pn={}\""
   ]
  },
  {
   "cell_type": "code",
   "execution_count": 17,
   "metadata": {},
   "outputs": [],
   "source": [
    "# リクエストがうまく行かないパターンを回避するためのやり直し\n",
    "def load_page(url):\n",
    "    html = requests.get(url)\n",
    "    soup = BeautifulSoup(html.content, 'html.parser')\n",
    "    return soup\n",
    "\n",
    "data_samples = []\n",
    "unique_samples = {}\n",
    "\n",
    "# ヘッダー行を定義\n",
    "headers = [\"セグメント\", \"建物名\", \"住所\", \"最寄り駅1\", \"最寄り駅2\", \"最寄り駅3\", \"築年数\", \"最大階数\", \"階\", \"家賃\", \"管理費\", \"敷金\", \"礼金\", \"間取り\", \"面積\", \"URL\" ,\"エリア\", \"家賃_正規化\", \"管理費_正規化\", \"敷金_正規化\", \"礼金_正規化\"]\n",
    "\n",
    "# スプレッドシートに書き込むためのデータリスト\n",
    "data_samples = [headers]  # ヘッダー行を最初に追加\n",
    "\n",
    "for page in range(1, max_page + 1):\n",
    "    # 完全なURLを生成\n",
    "    full_url = base_url + relative_url.format(page)\n",
    "    soup = load_page(full_url)\n",
    "    mother = soup.find_all(class_='cassetteitem')\n",
    "    # ここに各ページからのデータを処理して追加するコードを書く\n",
    "\n",
    "\n",
    "    for child in mother:\n",
    "        # 建物情報\n",
    "        segment = child.find(class_='ui-pct ui-pct--util1').text\n",
    "        name = child.find(class_='cassetteitem_content-title').text\n",
    "        address = child.find(class_='cassetteitem_detail-col1').text\n",
    "        station_info = [item.text for item in child.find(class_='cassetteitem_detail-col2').find_all(class_='cassetteitem_detail-text')]\n",
    "        year, maxfloor = [item.text for item in child.find(class_='cassetteitem_detail-col3').find_all('div')]\n",
    "\n",
    "        # 部屋情報\n",
    "        rooms = child.find(class_='cassetteitem_other')\n",
    "        for room in rooms.find_all(class_='js-cassette_link'):\n",
    "            floor, rent_fee, maintenance_fee, deposit_fee, gratuity_fee, layout, area, url = '', '', '', '', '', '', '', ''\n",
    "\n",
    "            # 部屋情報の取得\n",
    "            for id_, grandchild in enumerate(room.find_all('td')):\n",
    "                if id_ == 2:\n",
    "                    floor = grandchild.text.strip()\n",
    "                elif id_ == 3:\n",
    "                    rent_fee = grandchild.find(class_='cassetteitem_other-emphasis ui-text--bold').text\n",
    "                    maintenance_fee = grandchild.find(class_='cassetteitem_price cassetteitem_price--administration').text\n",
    "                elif id_ == 4:\n",
    "                    deposit_fee = grandchild.find(class_='cassetteitem_price cassetteitem_price--deposit').text\n",
    "                    gratuity_fee = grandchild.find(class_='cassetteitem_price cassetteitem_price--gratuity').text\n",
    "                elif id_ == 5:\n",
    "                    layout = grandchild.find(class_='cassetteitem_madori').text\n",
    "                    area = grandchild.find(class_='cassetteitem_menseki').text\n",
    "                elif id_ == 8:\n",
    "                    get_url = grandchild.find(class_='js-cassette_link_href cassetteitem_other-linktext').get('href')\n",
    "                    url = urllib.parse.urljoin(url, get_url)\n",
    "\n",
    "                    data_sample = [segment, name, address] + station_info + [year, maxfloor, floor, rent_fee, maintenance_fee, deposit_fee, gratuity_fee, layout, area, url]\n",
    "\n",
    "                    # 住所、家賃、敷金、礼金、管理費の正規化\n",
    "                    import pandas as pd\n",
    "                    import re\n",
    "                    import math\n",
    "\n",
    "                    # 仮のデータフレームを作成\n",
    "                    df = pd.DataFrame(data_samples[1:], columns=headers)\n",
    "\n",
    "                    # 住所の正規化関数\n",
    "                    def normalize_address(address):\n",
    "                        # ここに住所を正規化するためのコードを書く\n",
    "                        # 以下は例として「都」以降「区」までの部分を抽出する正規表現を使用しています\n",
    "                        pattern = re.compile(r'都(.*?区)')\n",
    "                        match = pattern.search(address)\n",
    "                        if match:\n",
    "                            return match.group(1)\n",
    "                        else:\n",
    "                            return address\n",
    "                    def convert_fee(fee):\n",
    "                        match = re.search(r'(\\d+(?:\\.\\d+)?)万円', fee)\n",
    "                        if match:\n",
    "                            return int(float(match.group(1)) * 10000)\n",
    "                        elif re.search(r'(\\d+)円', fee):\n",
    "                            return int(re.search(r'(\\d+)円', fee).group(1))\n",
    "                        else:\n",
    "                            return None\n",
    "\n",
    "                    data_sample.append(normalize_address(address))\n",
    "                    data_sample.append(convert_fee(rent_fee))\n",
    "                    data_sample.append(convert_fee(maintenance_fee))\n",
    "                    data_sample.append(convert_fee(deposit_fee))\n",
    "                    data_sample.append(convert_fee(gratuity_fee))\n",
    "\n",
    "                    dedup_key = (data_sample[2], data_sample[6], data_sample[7], data_sample[8], data_sample[13], data_sample[14])\n",
    "\n",
    "                    # 重複がなければ辞書に追加\n",
    "                    if dedup_key not in unique_samples:\n",
    "                        unique_samples[dedup_key] = data_sample\n",
    "                        data_samples.append(data_sample)"
   ]
  },
  {
   "cell_type": "code",
   "execution_count": 18,
   "metadata": {},
   "outputs": [],
   "source": [
    "import gspread\n",
    "from google.oauth2.service_account import Credentials\n",
    "from oauth2client.service_account import ServiceAccountCredentials"
   ]
  },
  {
   "cell_type": "code",
   "execution_count": 19,
   "metadata": {},
   "outputs": [
    {
     "name": "stderr",
     "output_type": "stream",
     "text": [
      "C:\\Users\\kurih\\AppData\\Local\\Temp\\ipykernel_7944\\1426865199.py:17: DeprecationWarning: [Deprecated][in version 6.0.0]: Method signature's arguments 'range_name' and 'values' will change their order. We recommend using named arguments for minimal impact. In addition, the argument 'values' will be mandatory of type: 'List[List]'. (ex) Worksheet.update(values = [[]], range_name=) \n",
      "  worksheet.update(\"A1\", values)\n"
     ]
    },
    {
     "data": {
      "text/plain": [
       "{'spreadsheetId': '1rRtCz79tHmcBlmRGqbQDgwxgA_P8822bFhcb-k6MxQs',\n",
       " 'updatedRange': \"'20240125'!A1:U4482\",\n",
       " 'updatedRows': 4482,\n",
       " 'updatedColumns': 21,\n",
       " 'updatedCells': 90354}"
      ]
     },
     "execution_count": 19,
     "metadata": {},
     "output_type": "execute_result"
    }
   ],
   "source": [
    "# Googleスプレッドシートの認証情報を取得\n",
    "SCOPES = [\"https://spreadsheets.google.com/feeds\",\"https://www.googleapis.com/auth/drive\"]\n",
    "SERVICE_ACCOUNT_FILE = \"tech0-step3_1_1-suumo-jsonkey.json\"\n",
    "\n",
    "credentials = ServiceAccountCredentials.from_json_keyfile_name(SERVICE_ACCOUNT_FILE,SCOPES)\n",
    "gs = gspread.authorize(credentials)\n",
    "\n",
    "SPREADSHEET_KEY = \"1rRtCz79tHmcBlmRGqbQDgwxgA_P8822bFhcb-k6MxQs\"\n",
    "\n",
    "workbook = gs.open_by_key(SPREADSHEET_KEY)\n",
    "worksheet = workbook.worksheet(\"20240125\")\n",
    "\n",
    "# スプレッドシートに書き込むためのデータ\n",
    "values = [headers] + list(unique_samples.values())\n",
    "\n",
    "# スプレッドシートの1行目（A1セル）からデータを追加\n",
    "worksheet.update(\"A1\", values)"
   ]
  }
 ],
 "metadata": {
  "kernelspec": {
   "display_name": "Python 3",
   "language": "python",
   "name": "python3"
  },
  "language_info": {
   "codemirror_mode": {
    "name": "ipython",
    "version": 3
   },
   "file_extension": ".py",
   "mimetype": "text/x-python",
   "name": "python",
   "nbconvert_exporter": "python",
   "pygments_lexer": "ipython3",
   "version": "3.12.1"
  }
 },
 "nbformat": 4,
 "nbformat_minor": 2
}
